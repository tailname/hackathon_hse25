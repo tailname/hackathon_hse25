{
  "cells": [
    {
      "cell_type": "code",
      "execution_count": 1,
      "metadata": {},
      "outputs": [
        {
          "name": "stdout",
          "output_type": "stream",
          "text": [
            "Requirement already satisfied: torch in d:\\documents\\python\\hackathon_hse25\\.venv\\lib\\site-packages (2.6.0+cu118)\n",
            "Requirement already satisfied: filelock in d:\\documents\\python\\hackathon_hse25\\.venv\\lib\\site-packages (from torch) (3.17.0)\n",
            "Requirement already satisfied: typing-extensions>=4.10.0 in d:\\documents\\python\\hackathon_hse25\\.venv\\lib\\site-packages (from torch) (4.12.2)\n",
            "Requirement already satisfied: networkx in d:\\documents\\python\\hackathon_hse25\\.venv\\lib\\site-packages (from torch) (3.4.2)\n",
            "Requirement already satisfied: jinja2 in d:\\documents\\python\\hackathon_hse25\\.venv\\lib\\site-packages (from torch) (3.1.5)\n",
            "Requirement already satisfied: fsspec in d:\\documents\\python\\hackathon_hse25\\.venv\\lib\\site-packages (from torch) (2024.12.0)\n",
            "Requirement already satisfied: setuptools in d:\\documents\\python\\hackathon_hse25\\.venv\\lib\\site-packages (from torch) (75.8.2)\n",
            "Requirement already satisfied: sympy==1.13.1 in d:\\documents\\python\\hackathon_hse25\\.venv\\lib\\site-packages (from torch) (1.13.1)\n",
            "Requirement already satisfied: mpmath<1.4,>=1.1.0 in d:\\documents\\python\\hackathon_hse25\\.venv\\lib\\site-packages (from sympy==1.13.1->torch) (1.3.0)\n",
            "Requirement already satisfied: MarkupSafe>=2.0 in d:\\documents\\python\\hackathon_hse25\\.venv\\lib\\site-packages (from jinja2->torch) (3.0.2)\n"
          ]
        }
      ],
      "source": [
        "!pip install torch"
      ]
    },
    {
      "cell_type": "code",
      "execution_count": 2,
      "metadata": {
        "colab": {
          "base_uri": "https://localhost:8080/"
        },
        "id": "nDZm0QDd_d1a",
        "outputId": "0ebb0d76-a934-4962-a8d4-6814a765239d"
      },
      "outputs": [
        {
          "name": "stdout",
          "output_type": "stream",
          "text": [
            "GPU доступен: True\n"
          ]
        }
      ],
      "source": [
        "import torch\n",
        "print(\"GPU доступен:\", torch.cuda.is_available())\n"
      ]
    },
    {
      "cell_type": "code",
      "execution_count": 3,
      "metadata": {
        "colab": {
          "base_uri": "https://localhost:8080/"
        },
        "id": "laITuMQUXmOA",
        "outputId": "1e752dcd-9f24-4ca7-98cc-c517f0f5a228"
      },
      "outputs": [
        {
          "name": "stdout",
          "output_type": "stream",
          "text": [
            "Requirement already satisfied: evaluate in d:\\documents\\python\\hackathon_hse25\\.venv\\lib\\site-packages (0.4.3)\n",
            "Requirement already satisfied: datasets>=2.0.0 in d:\\documents\\python\\hackathon_hse25\\.venv\\lib\\site-packages (from evaluate) (3.3.2)\n",
            "Requirement already satisfied: numpy>=1.17 in d:\\documents\\python\\hackathon_hse25\\.venv\\lib\\site-packages (from evaluate) (2.2.3)\n",
            "Requirement already satisfied: dill in d:\\documents\\python\\hackathon_hse25\\.venv\\lib\\site-packages (from evaluate) (0.3.8)\n",
            "Requirement already satisfied: pandas in d:\\documents\\python\\hackathon_hse25\\.venv\\lib\\site-packages (from evaluate) (2.2.3)\n",
            "Requirement already satisfied: requests>=2.19.0 in d:\\documents\\python\\hackathon_hse25\\.venv\\lib\\site-packages (from evaluate) (2.32.3)\n",
            "Requirement already satisfied: tqdm>=4.62.1 in d:\\documents\\python\\hackathon_hse25\\.venv\\lib\\site-packages (from evaluate) (4.67.1)\n",
            "Requirement already satisfied: xxhash in d:\\documents\\python\\hackathon_hse25\\.venv\\lib\\site-packages (from evaluate) (3.5.0)\n",
            "Requirement already satisfied: multiprocess in d:\\documents\\python\\hackathon_hse25\\.venv\\lib\\site-packages (from evaluate) (0.70.16)\n",
            "Requirement already satisfied: fsspec>=2021.05.0 in d:\\documents\\python\\hackathon_hse25\\.venv\\lib\\site-packages (from fsspec[http]>=2021.05.0->evaluate) (2024.12.0)\n",
            "Requirement already satisfied: huggingface-hub>=0.7.0 in d:\\documents\\python\\hackathon_hse25\\.venv\\lib\\site-packages (from evaluate) (0.29.1)\n",
            "Requirement already satisfied: packaging in d:\\documents\\python\\hackathon_hse25\\.venv\\lib\\site-packages (from evaluate) (24.2)\n",
            "Requirement already satisfied: filelock in d:\\documents\\python\\hackathon_hse25\\.venv\\lib\\site-packages (from datasets>=2.0.0->evaluate) (3.17.0)\n",
            "Requirement already satisfied: pyarrow>=15.0.0 in d:\\documents\\python\\hackathon_hse25\\.venv\\lib\\site-packages (from datasets>=2.0.0->evaluate) (19.0.1)\n",
            "Requirement already satisfied: aiohttp in d:\\documents\\python\\hackathon_hse25\\.venv\\lib\\site-packages (from datasets>=2.0.0->evaluate) (3.11.13)\n",
            "Requirement already satisfied: pyyaml>=5.1 in d:\\documents\\python\\hackathon_hse25\\.venv\\lib\\site-packages (from datasets>=2.0.0->evaluate) (6.0.2)\n",
            "Requirement already satisfied: typing-extensions>=3.7.4.3 in d:\\documents\\python\\hackathon_hse25\\.venv\\lib\\site-packages (from huggingface-hub>=0.7.0->evaluate) (4.12.2)\n",
            "Requirement already satisfied: charset-normalizer<4,>=2 in d:\\documents\\python\\hackathon_hse25\\.venv\\lib\\site-packages (from requests>=2.19.0->evaluate) (3.4.1)\n",
            "Requirement already satisfied: idna<4,>=2.5 in d:\\documents\\python\\hackathon_hse25\\.venv\\lib\\site-packages (from requests>=2.19.0->evaluate) (3.10)\n",
            "Requirement already satisfied: urllib3<3,>=1.21.1 in d:\\documents\\python\\hackathon_hse25\\.venv\\lib\\site-packages (from requests>=2.19.0->evaluate) (2.3.0)\n",
            "Requirement already satisfied: certifi>=2017.4.17 in d:\\documents\\python\\hackathon_hse25\\.venv\\lib\\site-packages (from requests>=2.19.0->evaluate) (2025.1.31)\n",
            "Requirement already satisfied: colorama in d:\\documents\\python\\hackathon_hse25\\.venv\\lib\\site-packages (from tqdm>=4.62.1->evaluate) (0.4.6)\n",
            "Requirement already satisfied: python-dateutil>=2.8.2 in d:\\documents\\python\\hackathon_hse25\\.venv\\lib\\site-packages (from pandas->evaluate) (2.9.0.post0)\n",
            "Requirement already satisfied: pytz>=2020.1 in d:\\documents\\python\\hackathon_hse25\\.venv\\lib\\site-packages (from pandas->evaluate) (2025.1)\n",
            "Requirement already satisfied: tzdata>=2022.7 in d:\\documents\\python\\hackathon_hse25\\.venv\\lib\\site-packages (from pandas->evaluate) (2025.1)\n",
            "Requirement already satisfied: aiohappyeyeballs>=2.3.0 in d:\\documents\\python\\hackathon_hse25\\.venv\\lib\\site-packages (from aiohttp->datasets>=2.0.0->evaluate) (2.4.8)\n",
            "Requirement already satisfied: aiosignal>=1.1.2 in d:\\documents\\python\\hackathon_hse25\\.venv\\lib\\site-packages (from aiohttp->datasets>=2.0.0->evaluate) (1.3.2)\n",
            "Requirement already satisfied: attrs>=17.3.0 in d:\\documents\\python\\hackathon_hse25\\.venv\\lib\\site-packages (from aiohttp->datasets>=2.0.0->evaluate) (25.1.0)\n",
            "Requirement already satisfied: frozenlist>=1.1.1 in d:\\documents\\python\\hackathon_hse25\\.venv\\lib\\site-packages (from aiohttp->datasets>=2.0.0->evaluate) (1.5.0)\n",
            "Requirement already satisfied: multidict<7.0,>=4.5 in d:\\documents\\python\\hackathon_hse25\\.venv\\lib\\site-packages (from aiohttp->datasets>=2.0.0->evaluate) (6.1.0)\n",
            "Requirement already satisfied: propcache>=0.2.0 in d:\\documents\\python\\hackathon_hse25\\.venv\\lib\\site-packages (from aiohttp->datasets>=2.0.0->evaluate) (0.3.0)\n",
            "Requirement already satisfied: yarl<2.0,>=1.17.0 in d:\\documents\\python\\hackathon_hse25\\.venv\\lib\\site-packages (from aiohttp->datasets>=2.0.0->evaluate) (1.18.3)\n",
            "Requirement already satisfied: six>=1.5 in d:\\documents\\python\\hackathon_hse25\\.venv\\lib\\site-packages (from python-dateutil>=2.8.2->pandas->evaluate) (1.17.0)\n"
          ]
        }
      ],
      "source": [
        "!pip install evaluate"
      ]
    },
    {
      "cell_type": "code",
      "execution_count": 4,
      "metadata": {
        "colab": {
          "base_uri": "https://localhost:8080/"
        },
        "id": "cDh5gkCoEXRX",
        "outputId": "1c7559df-a268-4b48-8609-8eff67e998a1"
      },
      "outputs": [
        {
          "name": "stdout",
          "output_type": "stream",
          "text": [
            "Requirement already satisfied: transformers in d:\\documents\\python\\hackathon_hse25\\.venv\\lib\\site-packages (4.49.0)\n",
            "Requirement already satisfied: accelerate in d:\\documents\\python\\hackathon_hse25\\.venv\\lib\\site-packages (1.4.0)\n",
            "Requirement already satisfied: filelock in d:\\documents\\python\\hackathon_hse25\\.venv\\lib\\site-packages (from transformers) (3.17.0)\n",
            "Requirement already satisfied: huggingface-hub<1.0,>=0.26.0 in d:\\documents\\python\\hackathon_hse25\\.venv\\lib\\site-packages (from transformers) (0.29.1)\n",
            "Requirement already satisfied: numpy>=1.17 in d:\\documents\\python\\hackathon_hse25\\.venv\\lib\\site-packages (from transformers) (2.2.3)\n",
            "Requirement already satisfied: packaging>=20.0 in d:\\documents\\python\\hackathon_hse25\\.venv\\lib\\site-packages (from transformers) (24.2)\n",
            "Requirement already satisfied: pyyaml>=5.1 in d:\\documents\\python\\hackathon_hse25\\.venv\\lib\\site-packages (from transformers) (6.0.2)\n",
            "Requirement already satisfied: regex!=2019.12.17 in d:\\documents\\python\\hackathon_hse25\\.venv\\lib\\site-packages (from transformers) (2024.11.6)\n",
            "Requirement already satisfied: requests in d:\\documents\\python\\hackathon_hse25\\.venv\\lib\\site-packages (from transformers) (2.32.3)\n",
            "Requirement already satisfied: tokenizers<0.22,>=0.21 in d:\\documents\\python\\hackathon_hse25\\.venv\\lib\\site-packages (from transformers) (0.21.0)\n",
            "Requirement already satisfied: safetensors>=0.4.1 in d:\\documents\\python\\hackathon_hse25\\.venv\\lib\\site-packages (from transformers) (0.5.3)\n",
            "Requirement already satisfied: tqdm>=4.27 in d:\\documents\\python\\hackathon_hse25\\.venv\\lib\\site-packages (from transformers) (4.67.1)\n",
            "Requirement already satisfied: psutil in d:\\documents\\python\\hackathon_hse25\\.venv\\lib\\site-packages (from accelerate) (7.0.0)\n",
            "Requirement already satisfied: torch>=2.0.0 in d:\\documents\\python\\hackathon_hse25\\.venv\\lib\\site-packages (from accelerate) (2.6.0+cu118)\n",
            "Requirement already satisfied: fsspec>=2023.5.0 in d:\\documents\\python\\hackathon_hse25\\.venv\\lib\\site-packages (from huggingface-hub<1.0,>=0.26.0->transformers) (2024.12.0)\n",
            "Requirement already satisfied: typing-extensions>=3.7.4.3 in d:\\documents\\python\\hackathon_hse25\\.venv\\lib\\site-packages (from huggingface-hub<1.0,>=0.26.0->transformers) (4.12.2)\n",
            "Requirement already satisfied: networkx in d:\\documents\\python\\hackathon_hse25\\.venv\\lib\\site-packages (from torch>=2.0.0->accelerate) (3.4.2)\n",
            "Requirement already satisfied: jinja2 in d:\\documents\\python\\hackathon_hse25\\.venv\\lib\\site-packages (from torch>=2.0.0->accelerate) (3.1.5)\n",
            "Requirement already satisfied: setuptools in d:\\documents\\python\\hackathon_hse25\\.venv\\lib\\site-packages (from torch>=2.0.0->accelerate) (75.8.2)\n",
            "Requirement already satisfied: sympy==1.13.1 in d:\\documents\\python\\hackathon_hse25\\.venv\\lib\\site-packages (from torch>=2.0.0->accelerate) (1.13.1)\n",
            "Requirement already satisfied: mpmath<1.4,>=1.1.0 in d:\\documents\\python\\hackathon_hse25\\.venv\\lib\\site-packages (from sympy==1.13.1->torch>=2.0.0->accelerate) (1.3.0)\n",
            "Requirement already satisfied: colorama in d:\\documents\\python\\hackathon_hse25\\.venv\\lib\\site-packages (from tqdm>=4.27->transformers) (0.4.6)\n",
            "Requirement already satisfied: charset-normalizer<4,>=2 in d:\\documents\\python\\hackathon_hse25\\.venv\\lib\\site-packages (from requests->transformers) (3.4.1)\n",
            "Requirement already satisfied: idna<4,>=2.5 in d:\\documents\\python\\hackathon_hse25\\.venv\\lib\\site-packages (from requests->transformers) (3.10)\n",
            "Requirement already satisfied: urllib3<3,>=1.21.1 in d:\\documents\\python\\hackathon_hse25\\.venv\\lib\\site-packages (from requests->transformers) (2.3.0)\n",
            "Requirement already satisfied: certifi>=2017.4.17 in d:\\documents\\python\\hackathon_hse25\\.venv\\lib\\site-packages (from requests->transformers) (2025.1.31)\n",
            "Requirement already satisfied: MarkupSafe>=2.0 in d:\\documents\\python\\hackathon_hse25\\.venv\\lib\\site-packages (from jinja2->torch>=2.0.0->accelerate) (3.0.2)\n"
          ]
        }
      ],
      "source": [
        "!pip install transformers accelerate\n"
      ]
    },
    {
      "cell_type": "code",
      "execution_count": 5,
      "metadata": {
        "colab": {
          "base_uri": "https://localhost:8080/"
        },
        "id": "MUQ6E-ByE7MX",
        "outputId": "bd364914-734f-4b38-a779-fd7d2fa530e0"
      },
      "outputs": [
        {
          "name": "stderr",
          "output_type": "stream",
          "text": [
            "d:\\Documents\\Python\\hackathon_hse25\\.venv\\Lib\\site-packages\\tqdm\\auto.py:21: TqdmWarning: IProgress not found. Please update jupyter and ipywidgets. See https://ipywidgets.readthedocs.io/en/stable/user_install.html\n",
            "  from .autonotebook import tqdm as notebook_tqdm\n"
          ]
        },
        {
          "data": {
            "text/plain": [
              "GPTNeoXForCausalLM(\n",
              "  (gpt_neox): GPTNeoXModel(\n",
              "    (embed_in): Embedding(50304, 512)\n",
              "    (emb_dropout): Dropout(p=0.0, inplace=False)\n",
              "    (layers): ModuleList(\n",
              "      (0-5): 6 x GPTNeoXLayer(\n",
              "        (input_layernorm): LayerNorm((512,), eps=1e-05, elementwise_affine=True)\n",
              "        (post_attention_layernorm): LayerNorm((512,), eps=1e-05, elementwise_affine=True)\n",
              "        (post_attention_dropout): Dropout(p=0.0, inplace=False)\n",
              "        (post_mlp_dropout): Dropout(p=0.0, inplace=False)\n",
              "        (attention): GPTNeoXAttention(\n",
              "          (query_key_value): Linear(in_features=512, out_features=1536, bias=True)\n",
              "          (dense): Linear(in_features=512, out_features=512, bias=True)\n",
              "        )\n",
              "        (mlp): GPTNeoXMLP(\n",
              "          (dense_h_to_4h): Linear(in_features=512, out_features=2048, bias=True)\n",
              "          (dense_4h_to_h): Linear(in_features=2048, out_features=512, bias=True)\n",
              "          (act): GELUActivation()\n",
              "        )\n",
              "      )\n",
              "    )\n",
              "    (final_layer_norm): LayerNorm((512,), eps=1e-05, elementwise_affine=True)\n",
              "    (rotary_emb): GPTNeoXRotaryEmbedding()\n",
              "  )\n",
              "  (embed_out): Linear(in_features=512, out_features=50304, bias=False)\n",
              ")"
            ]
          },
          "execution_count": 5,
          "metadata": {},
          "output_type": "execute_result"
        }
      ],
      "source": [
        "from transformers import AutoModelForCausalLM, AutoTokenizer\n",
        "import torch\n",
        "\n",
        "# Загружаем модель и токенизатор\n",
        "model_name = \"EleutherAI/pythia-19m\"\n",
        "tokenizer = AutoTokenizer.from_pretrained(model_name)\n",
        "model = AutoModelForCausalLM.from_pretrained(model_name,torch_dtype=torch.float16,\n",
        "                                             device_map=\"auto\")\n",
        "\n",
        "# Перемещаем модель на GPU (если доступен)\n",
        "device = \"cuda\" if torch.cuda.is_available() else \"cpu\"\n",
        "model.to(device)\n"
      ]
    },
    {
      "cell_type": "code",
      "execution_count": 6,
      "metadata": {
        "id": "AkPJ-1d7EVPb"
      },
      "outputs": [],
      "source": [
        "import json\n",
        "import pandas as pd\n",
        "import ast  # Для корректного парсинга строковых списков\n",
        "import re   # Для извлечения нужной части строки\n",
        "from typing import List, Dict, Any\n",
        "\n",
        "# --- Функции для парсинга контекста ---\n",
        "def _parse_contexts(resources: str) -> List[List[str]]:\n",
        "    \"\"\"Парсинг контекстов с использованием регулярных выражений\"\"\"\n",
        "    contexts = []\n",
        "    pattern = re.compile(r\"Document\\(page_content='(.*?)', metadata=({.*?})\\)\", re.DOTALL)\n",
        "\n",
        "    for match in re.finditer(pattern, resources):\n",
        "        content, metadata_str = match.groups()\n",
        "        try:\n",
        "            metadata = ast.literal_eval(metadata_str)\n",
        "            text = _clean_text(content)\n",
        "            contexts.append(text)  # Добавляем только очищенный текст\n",
        "        except Exception as e:\n",
        "            print(f\"Контекст не распарсился: {e}\")\n",
        "\n",
        "    return contexts  # Возвращаем список текстов\n",
        "\n",
        "def _clean_text(text: str) -> str:\n",
        "    \"\"\"Очистка текста\"\"\"\n",
        "    if not text:\n",
        "        return ''\n",
        "    return re.sub(r'\\\\[nrt]|[\\n\\r\\t]+|\\s+', ' ', text).strip()\n",
        "\n"
      ]
    },
    {
      "cell_type": "code",
      "execution_count": 7,
      "metadata": {
        "colab": {
          "base_uri": "https://localhost:8080/"
        },
        "id": "Y0cL3UOmMmwf",
        "outputId": "86af0400-8718-425d-fdfb-41bf89590cef"
      },
      "outputs": [
        {
          "name": "stdout",
          "output_type": "stream",
          "text": [
            "✅ Данные сохранены в formatted_dataset.csv и formatted_dataset.json!\n"
          ]
        }
      ],
      "source": [
        "import json\n",
        "import pandas as pd\n",
        "import ast  # Для корректного парсинга строковых списков\n",
        "import re   # Для извлечения нужной части строки\n",
        "\n",
        "# Загружаем данные из JSON\n",
        "with open('./datasets/train_set.json', 'r', encoding='utf-8') as f:\n",
        "    data = json.load(f)\n",
        "\n",
        "# Список для хранения обработанных данных\n",
        "formatted_data = []\n",
        "\n",
        "# Обрабатываем каждую запись\n",
        "for item in data:\n",
        "    question = item.get(\"Вопрос пользователя\", \"Нет вопроса\")\n",
        "\n",
        "    # Берем список контекстов из \"Ресурсы для ответа\"\n",
        "    contexts = _parse_contexts(item.get(\"Ресурсы для ответа\", \"\"))\n",
        "    answer = item.get(\"Ответ AI\")\n",
        "\n",
        "    # Определяем победителя (чей ответ использовать)\n",
        "    winner1 = item.get(\"Saiga\")\n",
        "    winner2 = item.get(\"Giga\")\n",
        "    winner = winner2 if item.get(\"Кто лучше?\") == \"Giga\" else winner1\n",
        "\n",
        "    # Преобразуем строку в список объектов, если это строка (иногда JSON неправильно парсится)\n",
        "    # try:\n",
        "    #     contexts_data = ast.literal_eval(raw_contexts) if isinstance(raw_contexts, str) else raw_contexts\n",
        "    #     contexts = []\n",
        "\n",
        "    #     for doc in contexts_data:\n",
        "    #         if isinstance(doc, str):  # Если запись строковая, ищем нужную часть\n",
        "    #             match = re.search(r\"page_content='(.*?)', metadata=\", doc, re.DOTALL)\n",
        "    #             if match:\n",
        "    #                 contexts.append(match.group(1))  # Извлекаем текст внутри page_content\n",
        "    #         elif isinstance(doc, dict) and 'page_content' in doc:\n",
        "    #             contexts.append(doc['page_content'])  # Обычный случай для словарей\n",
        "\n",
        "    # except (SyntaxError, ValueError):\n",
        "    #     contexts = []\n",
        "\n",
        "    # Формируем финальную структуру\n",
        "    formatted_data.append({\n",
        "        \"question\": question,\n",
        "        \"answer\": answer,\n",
        "        \"ground_truth\": winner,  # В файле нет эталонных ответов, ставим заглушку\n",
        "        \"contexts\": contexts\n",
        "    })\n",
        "\n",
        "# Создаем DataFrame\n",
        "df = pd.DataFrame(formatted_data)\n",
        "\n",
        "# Сохраняем в CSV и JSON\n",
        "df.to_csv(\"./datasets/formatted_dataset.csv\", index=False, encoding=\"utf-8\")\n",
        "df.to_json(\"./datasets/formatted_dataset.json\", orient=\"records\", force_ascii=False)\n",
        "\n",
        "print(\"✅ Данные сохранены в formatted_dataset.csv и formatted_dataset.json!\")\n"
      ]
    },
    {
      "cell_type": "code",
      "execution_count": 8,
      "metadata": {
        "colab": {
          "base_uri": "https://localhost:8080/"
        },
        "id": "VHt00vF2RhvN",
        "outputId": "a817ff9a-07c2-487b-da79-e6d75eb7a0a7"
      },
      "outputs": [
        {
          "name": "stdout",
          "output_type": "stream",
          "text": [
            "✅ Данные корректно преобразованы и сохранены в final_dataset.json и final_dataset.csv!\n"
          ]
        }
      ],
      "source": [
        "import pandas as pd\n",
        "import json\n",
        "\n",
        "# Загружаем обработанные данные\n",
        "df = pd.read_json(\"./datasets/formatted_dataset.json\")\n",
        "\n",
        "# Создаем словарь, где каждому ключу соответствует список значений\n",
        "dataset_dict = {\n",
        "    \"question\": df[\"question\"].tolist(),       # Список всех вопросов\n",
        "    \"answer\": df[\"answer\"].tolist(),           # Список всех ответов модели\n",
        "    \"ground_truth\": df[\"ground_truth\"].tolist(),  # Список всех эталонных ответов\n",
        "    \"contexts\": df[\"contexts\"].tolist()  # Список списков контекстов\n",
        "}\n",
        "\n",
        "# Преобразуем словарь обратно в DataFrame (для сохранения)\n",
        "final_df = pd.DataFrame.from_dict(dataset_dict)\n",
        "\n",
        "# Сохраняем итоговые данные\n",
        "with open(\"./datasets/final_dataset.json\", \"w\", encoding=\"utf-8\") as f:\n",
        "    json.dump(dataset_dict, f, ensure_ascii=False, indent=4)\n",
        "\n",
        "#final_df.to_csv(\"/mnt/data/final_dataset.csv\", index=False, encoding=\"utf-8\")\n",
        "\n",
        "print(\"✅ Данные корректно преобразованы и сохранены в final_dataset.json и final_dataset.csv!\")\n"
      ]
    },
    {
      "cell_type": "code",
      "execution_count": 9,
      "metadata": {
        "colab": {
          "base_uri": "https://localhost:8080/"
        },
        "id": "ucXahWPTT1iM",
        "outputId": "0bebefb8-753d-4c7b-d7e7-48d570fa2ab5"
      },
      "outputs": [
        {
          "name": "stdout",
          "output_type": "stream",
          "text": [
            "                                            question  \\\n",
            "0  Для чего нужно подробное изучение науки, прове...   \n",
            "1  Нужно ли подавать какие-то дополнительные доку...   \n",
            "2             я 120см, смогу ли я попасть на военку?   \n",
            "3  Нужно ли подавать какие-то дополнительные доку...   \n",
            "4  Если во время прохождения теста в смарт лмс пр...   \n",
            "\n",
            "                                              answer  \\\n",
            "0  Я могу частично ответить на данный вопрос: про...   \n",
            "1  Дополнительные документы для продления социаль...   \n",
            "2  Что-то в вашем вопросе меня смущает. Может, по...   \n",
            "3  Дополнительные документы для продления социаль...   \n",
            "4  Я не нашел конкретного ответа на ваш вопрос о ...   \n",
            "\n",
            "                                        ground_truth  \\\n",
            "0  Я понял ваш вопрос. Вы хотите узнать, почему н...   \n",
            "1  Для продления социальной стипендии необходимо ...   \n",
            "2  Я понял ваш страх по поводу возможности поступ...   \n",
            "3  Для продления социальной стипендии необходимо ...   \n",
            "4  Я понял ваш вопрос о том, что случилось с тест...   \n",
            "\n",
            "                                            contexts  \n",
            "0  [Конкурсы игранты НИУВШЭ Конкурсы и гранты НИУ...  \n",
            "1  [Материальная помощь и материальная поддержка ...  \n",
            "2  [енной службы с зачислением в запас Вооруженны...  \n",
            "3  [Материальная помощь и материальная поддержка ...  \n",
            "4  [Learning management system (LMS) & SmartLMS L...  \n"
          ]
        }
      ],
      "source": [
        "\n",
        "import pandas as pd\n",
        "\n",
        "\n",
        "dataset = pd.read_json(\"./datasets/final_dataset.json\")\n",
        "\n",
        "\n",
        "print(dataset.head())\n"
      ]
    },
    {
      "cell_type": "code",
      "execution_count": 10,
      "metadata": {
        "colab": {
          "base_uri": "https://localhost:8080/"
        },
        "id": "pqL6Row3X0VR",
        "outputId": "dd2567b9-990d-4604-bef8-31d3233bad36"
      },
      "outputs": [
        {
          "name": "stdout",
          "output_type": "stream",
          "text": [
            "Requirement already satisfied: tqdm in d:\\documents\\python\\hackathon_hse25\\.venv\\lib\\site-packages (4.67.1)\n",
            "Requirement already satisfied: colorama in d:\\documents\\python\\hackathon_hse25\\.venv\\lib\\site-packages (from tqdm) (0.4.6)\n"
          ]
        }
      ],
      "source": [
        "!pip install tqdm"
      ]
    },
    {
      "cell_type": "code",
      "execution_count": 11,
      "metadata": {
        "id": "ZwrysWArX5VT"
      },
      "outputs": [],
      "source": [
        "from tqdm import tqdm"
      ]
    },
    {
      "cell_type": "code",
      "execution_count": 12,
      "metadata": {
        "colab": {
          "base_uri": "https://localhost:8080/"
        },
        "id": "j8xcm0sLYOpN",
        "outputId": "c3ff321c-c2f0-494f-cb3d-631b847a3464"
      },
      "outputs": [
        {
          "name": "stdout",
          "output_type": "stream",
          "text": [
            "Requirement already satisfied: evaluate in d:\\documents\\python\\hackathon_hse25\\.venv\\lib\\site-packages (0.4.3)\n",
            "Requirement already satisfied: datasets>=2.0.0 in d:\\documents\\python\\hackathon_hse25\\.venv\\lib\\site-packages (from evaluate) (3.3.2)\n",
            "Requirement already satisfied: numpy>=1.17 in d:\\documents\\python\\hackathon_hse25\\.venv\\lib\\site-packages (from evaluate) (2.2.3)\n",
            "Requirement already satisfied: dill in d:\\documents\\python\\hackathon_hse25\\.venv\\lib\\site-packages (from evaluate) (0.3.8)\n",
            "Requirement already satisfied: pandas in d:\\documents\\python\\hackathon_hse25\\.venv\\lib\\site-packages (from evaluate) (2.2.3)\n",
            "Requirement already satisfied: requests>=2.19.0 in d:\\documents\\python\\hackathon_hse25\\.venv\\lib\\site-packages (from evaluate) (2.32.3)\n",
            "Requirement already satisfied: tqdm>=4.62.1 in d:\\documents\\python\\hackathon_hse25\\.venv\\lib\\site-packages (from evaluate) (4.67.1)\n",
            "Requirement already satisfied: xxhash in d:\\documents\\python\\hackathon_hse25\\.venv\\lib\\site-packages (from evaluate) (3.5.0)\n",
            "Requirement already satisfied: multiprocess in d:\\documents\\python\\hackathon_hse25\\.venv\\lib\\site-packages (from evaluate) (0.70.16)\n",
            "Requirement already satisfied: fsspec>=2021.05.0 in d:\\documents\\python\\hackathon_hse25\\.venv\\lib\\site-packages (from fsspec[http]>=2021.05.0->evaluate) (2024.12.0)\n",
            "Requirement already satisfied: huggingface-hub>=0.7.0 in d:\\documents\\python\\hackathon_hse25\\.venv\\lib\\site-packages (from evaluate) (0.29.1)\n",
            "Requirement already satisfied: packaging in d:\\documents\\python\\hackathon_hse25\\.venv\\lib\\site-packages (from evaluate) (24.2)\n",
            "Requirement already satisfied: filelock in d:\\documents\\python\\hackathon_hse25\\.venv\\lib\\site-packages (from datasets>=2.0.0->evaluate) (3.17.0)\n",
            "Requirement already satisfied: pyarrow>=15.0.0 in d:\\documents\\python\\hackathon_hse25\\.venv\\lib\\site-packages (from datasets>=2.0.0->evaluate) (19.0.1)\n",
            "Requirement already satisfied: aiohttp in d:\\documents\\python\\hackathon_hse25\\.venv\\lib\\site-packages (from datasets>=2.0.0->evaluate) (3.11.13)\n",
            "Requirement already satisfied: pyyaml>=5.1 in d:\\documents\\python\\hackathon_hse25\\.venv\\lib\\site-packages (from datasets>=2.0.0->evaluate) (6.0.2)\n",
            "Requirement already satisfied: typing-extensions>=3.7.4.3 in d:\\documents\\python\\hackathon_hse25\\.venv\\lib\\site-packages (from huggingface-hub>=0.7.0->evaluate) (4.12.2)\n",
            "Requirement already satisfied: charset-normalizer<4,>=2 in d:\\documents\\python\\hackathon_hse25\\.venv\\lib\\site-packages (from requests>=2.19.0->evaluate) (3.4.1)\n",
            "Requirement already satisfied: idna<4,>=2.5 in d:\\documents\\python\\hackathon_hse25\\.venv\\lib\\site-packages (from requests>=2.19.0->evaluate) (3.10)\n",
            "Requirement already satisfied: urllib3<3,>=1.21.1 in d:\\documents\\python\\hackathon_hse25\\.venv\\lib\\site-packages (from requests>=2.19.0->evaluate) (2.3.0)\n",
            "Requirement already satisfied: certifi>=2017.4.17 in d:\\documents\\python\\hackathon_hse25\\.venv\\lib\\site-packages (from requests>=2.19.0->evaluate) (2025.1.31)\n",
            "Requirement already satisfied: colorama in d:\\documents\\python\\hackathon_hse25\\.venv\\lib\\site-packages (from tqdm>=4.62.1->evaluate) (0.4.6)\n",
            "Requirement already satisfied: python-dateutil>=2.8.2 in d:\\documents\\python\\hackathon_hse25\\.venv\\lib\\site-packages (from pandas->evaluate) (2.9.0.post0)\n",
            "Requirement already satisfied: pytz>=2020.1 in d:\\documents\\python\\hackathon_hse25\\.venv\\lib\\site-packages (from pandas->evaluate) (2025.1)\n",
            "Requirement already satisfied: tzdata>=2022.7 in d:\\documents\\python\\hackathon_hse25\\.venv\\lib\\site-packages (from pandas->evaluate) (2025.1)\n",
            "Requirement already satisfied: aiohappyeyeballs>=2.3.0 in d:\\documents\\python\\hackathon_hse25\\.venv\\lib\\site-packages (from aiohttp->datasets>=2.0.0->evaluate) (2.4.8)\n",
            "Requirement already satisfied: aiosignal>=1.1.2 in d:\\documents\\python\\hackathon_hse25\\.venv\\lib\\site-packages (from aiohttp->datasets>=2.0.0->evaluate) (1.3.2)\n",
            "Requirement already satisfied: attrs>=17.3.0 in d:\\documents\\python\\hackathon_hse25\\.venv\\lib\\site-packages (from aiohttp->datasets>=2.0.0->evaluate) (25.1.0)\n",
            "Requirement already satisfied: frozenlist>=1.1.1 in d:\\documents\\python\\hackathon_hse25\\.venv\\lib\\site-packages (from aiohttp->datasets>=2.0.0->evaluate) (1.5.0)\n",
            "Requirement already satisfied: multidict<7.0,>=4.5 in d:\\documents\\python\\hackathon_hse25\\.venv\\lib\\site-packages (from aiohttp->datasets>=2.0.0->evaluate) (6.1.0)\n",
            "Requirement already satisfied: propcache>=0.2.0 in d:\\documents\\python\\hackathon_hse25\\.venv\\lib\\site-packages (from aiohttp->datasets>=2.0.0->evaluate) (0.3.0)\n",
            "Requirement already satisfied: yarl<2.0,>=1.17.0 in d:\\documents\\python\\hackathon_hse25\\.venv\\lib\\site-packages (from aiohttp->datasets>=2.0.0->evaluate) (1.18.3)\n",
            "Requirement already satisfied: six>=1.5 in d:\\documents\\python\\hackathon_hse25\\.venv\\lib\\site-packages (from python-dateutil>=2.8.2->pandas->evaluate) (1.17.0)\n"
          ]
        }
      ],
      "source": [
        "!pip install evaluate"
      ]
    },
    {
      "cell_type": "code",
      "execution_count": 13,
      "metadata": {
        "colab": {
          "base_uri": "https://localhost:8080/"
        },
        "id": "YW0hBin0YihT",
        "outputId": "cd74f69f-ad9b-4b3e-c289-b6be966526cb"
      },
      "outputs": [
        {
          "name": "stdout",
          "output_type": "stream",
          "text": [
            "Requirement already satisfied: rouge_score in d:\\documents\\python\\hackathon_hse25\\.venv\\lib\\site-packages (0.1.2)\n",
            "Requirement already satisfied: absl-py in d:\\documents\\python\\hackathon_hse25\\.venv\\lib\\site-packages (from rouge_score) (2.1.0)\n",
            "Requirement already satisfied: nltk in d:\\documents\\python\\hackathon_hse25\\.venv\\lib\\site-packages (from rouge_score) (3.9.1)\n",
            "Requirement already satisfied: numpy in d:\\documents\\python\\hackathon_hse25\\.venv\\lib\\site-packages (from rouge_score) (2.2.3)\n",
            "Requirement already satisfied: six>=1.14.0 in d:\\documents\\python\\hackathon_hse25\\.venv\\lib\\site-packages (from rouge_score) (1.17.0)\n",
            "Requirement already satisfied: click in d:\\documents\\python\\hackathon_hse25\\.venv\\lib\\site-packages (from nltk->rouge_score) (8.1.8)\n",
            "Requirement already satisfied: joblib in d:\\documents\\python\\hackathon_hse25\\.venv\\lib\\site-packages (from nltk->rouge_score) (1.4.2)\n",
            "Requirement already satisfied: regex>=2021.8.3 in d:\\documents\\python\\hackathon_hse25\\.venv\\lib\\site-packages (from nltk->rouge_score) (2024.11.6)\n",
            "Requirement already satisfied: tqdm in d:\\documents\\python\\hackathon_hse25\\.venv\\lib\\site-packages (from nltk->rouge_score) (4.67.1)\n",
            "Requirement already satisfied: colorama in d:\\documents\\python\\hackathon_hse25\\.venv\\lib\\site-packages (from click->nltk->rouge_score) (0.4.6)\n"
          ]
        }
      ],
      "source": [
        "!pip install rouge_score\n"
      ]
    },
    {
      "cell_type": "code",
      "execution_count": 14,
      "metadata": {
        "colab": {
          "base_uri": "https://localhost:8080/"
        },
        "id": "2qkyqYgRYouB",
        "outputId": "e24f3908-b66e-4edf-db3c-b136018eac14"
      },
      "outputs": [
        {
          "name": "stdout",
          "output_type": "stream",
          "text": [
            "Requirement already satisfied: sacrebleu in d:\\documents\\python\\hackathon_hse25\\.venv\\lib\\site-packages (2.5.1)\n",
            "Requirement already satisfied: portalocker in d:\\documents\\python\\hackathon_hse25\\.venv\\lib\\site-packages (from sacrebleu) (3.1.1)\n",
            "Requirement already satisfied: regex in d:\\documents\\python\\hackathon_hse25\\.venv\\lib\\site-packages (from sacrebleu) (2024.11.6)\n",
            "Requirement already satisfied: tabulate>=0.8.9 in d:\\documents\\python\\hackathon_hse25\\.venv\\lib\\site-packages (from sacrebleu) (0.9.0)\n",
            "Requirement already satisfied: numpy>=1.17 in d:\\documents\\python\\hackathon_hse25\\.venv\\lib\\site-packages (from sacrebleu) (2.2.3)\n",
            "Requirement already satisfied: colorama in d:\\documents\\python\\hackathon_hse25\\.venv\\lib\\site-packages (from sacrebleu) (0.4.6)\n",
            "Requirement already satisfied: lxml in d:\\documents\\python\\hackathon_hse25\\.venv\\lib\\site-packages (from sacrebleu) (5.3.1)\n",
            "Requirement already satisfied: pywin32>=226 in d:\\documents\\python\\hackathon_hse25\\.venv\\lib\\site-packages (from portalocker->sacrebleu) (308)\n"
          ]
        }
      ],
      "source": [
        "!pip install sacrebleu"
      ]
    },
    {
      "cell_type": "code",
      "execution_count": 15,
      "metadata": {
        "colab": {
          "base_uri": "https://localhost:8080/"
        },
        "id": "QxpyckWVYuzH",
        "outputId": "85ba2c57-1f99-4abf-ca11-3581d116b496"
      },
      "outputs": [
        {
          "name": "stdout",
          "output_type": "stream",
          "text": [
            "Requirement already satisfied: bert_score in d:\\documents\\python\\hackathon_hse25\\.venv\\lib\\site-packages (0.3.13)\n",
            "Requirement already satisfied: torch>=1.0.0 in d:\\documents\\python\\hackathon_hse25\\.venv\\lib\\site-packages (from bert_score) (2.6.0+cu118)\n",
            "Requirement already satisfied: pandas>=1.0.1 in d:\\documents\\python\\hackathon_hse25\\.venv\\lib\\site-packages (from bert_score) (2.2.3)\n",
            "Requirement already satisfied: transformers>=3.0.0 in d:\\documents\\python\\hackathon_hse25\\.venv\\lib\\site-packages (from bert_score) (4.49.0)\n",
            "Requirement already satisfied: numpy in d:\\documents\\python\\hackathon_hse25\\.venv\\lib\\site-packages (from bert_score) (2.2.3)\n",
            "Requirement already satisfied: requests in d:\\documents\\python\\hackathon_hse25\\.venv\\lib\\site-packages (from bert_score) (2.32.3)\n",
            "Requirement already satisfied: tqdm>=4.31.1 in d:\\documents\\python\\hackathon_hse25\\.venv\\lib\\site-packages (from bert_score) (4.67.1)\n",
            "Requirement already satisfied: matplotlib in d:\\documents\\python\\hackathon_hse25\\.venv\\lib\\site-packages (from bert_score) (3.10.1)\n",
            "Requirement already satisfied: packaging>=20.9 in d:\\documents\\python\\hackathon_hse25\\.venv\\lib\\site-packages (from bert_score) (24.2)\n",
            "Requirement already satisfied: python-dateutil>=2.8.2 in d:\\documents\\python\\hackathon_hse25\\.venv\\lib\\site-packages (from pandas>=1.0.1->bert_score) (2.9.0.post0)\n",
            "Requirement already satisfied: pytz>=2020.1 in d:\\documents\\python\\hackathon_hse25\\.venv\\lib\\site-packages (from pandas>=1.0.1->bert_score) (2025.1)\n",
            "Requirement already satisfied: tzdata>=2022.7 in d:\\documents\\python\\hackathon_hse25\\.venv\\lib\\site-packages (from pandas>=1.0.1->bert_score) (2025.1)\n",
            "Requirement already satisfied: filelock in d:\\documents\\python\\hackathon_hse25\\.venv\\lib\\site-packages (from torch>=1.0.0->bert_score) (3.17.0)\n",
            "Requirement already satisfied: typing-extensions>=4.10.0 in d:\\documents\\python\\hackathon_hse25\\.venv\\lib\\site-packages (from torch>=1.0.0->bert_score) (4.12.2)\n",
            "Requirement already satisfied: networkx in d:\\documents\\python\\hackathon_hse25\\.venv\\lib\\site-packages (from torch>=1.0.0->bert_score) (3.4.2)\n",
            "Requirement already satisfied: jinja2 in d:\\documents\\python\\hackathon_hse25\\.venv\\lib\\site-packages (from torch>=1.0.0->bert_score) (3.1.5)\n",
            "Requirement already satisfied: fsspec in d:\\documents\\python\\hackathon_hse25\\.venv\\lib\\site-packages (from torch>=1.0.0->bert_score) (2024.12.0)\n",
            "Requirement already satisfied: setuptools in d:\\documents\\python\\hackathon_hse25\\.venv\\lib\\site-packages (from torch>=1.0.0->bert_score) (75.8.2)\n",
            "Requirement already satisfied: sympy==1.13.1 in d:\\documents\\python\\hackathon_hse25\\.venv\\lib\\site-packages (from torch>=1.0.0->bert_score) (1.13.1)\n",
            "Requirement already satisfied: mpmath<1.4,>=1.1.0 in d:\\documents\\python\\hackathon_hse25\\.venv\\lib\\site-packages (from sympy==1.13.1->torch>=1.0.0->bert_score) (1.3.0)\n",
            "Requirement already satisfied: colorama in d:\\documents\\python\\hackathon_hse25\\.venv\\lib\\site-packages (from tqdm>=4.31.1->bert_score) (0.4.6)\n",
            "Requirement already satisfied: huggingface-hub<1.0,>=0.26.0 in d:\\documents\\python\\hackathon_hse25\\.venv\\lib\\site-packages (from transformers>=3.0.0->bert_score) (0.29.1)\n",
            "Requirement already satisfied: pyyaml>=5.1 in d:\\documents\\python\\hackathon_hse25\\.venv\\lib\\site-packages (from transformers>=3.0.0->bert_score) (6.0.2)\n",
            "Requirement already satisfied: regex!=2019.12.17 in d:\\documents\\python\\hackathon_hse25\\.venv\\lib\\site-packages (from transformers>=3.0.0->bert_score) (2024.11.6)\n",
            "Requirement already satisfied: tokenizers<0.22,>=0.21 in d:\\documents\\python\\hackathon_hse25\\.venv\\lib\\site-packages (from transformers>=3.0.0->bert_score) (0.21.0)\n",
            "Requirement already satisfied: safetensors>=0.4.1 in d:\\documents\\python\\hackathon_hse25\\.venv\\lib\\site-packages (from transformers>=3.0.0->bert_score) (0.5.3)\n",
            "Requirement already satisfied: contourpy>=1.0.1 in d:\\documents\\python\\hackathon_hse25\\.venv\\lib\\site-packages (from matplotlib->bert_score) (1.3.1)\n",
            "Requirement already satisfied: cycler>=0.10 in d:\\documents\\python\\hackathon_hse25\\.venv\\lib\\site-packages (from matplotlib->bert_score) (0.12.1)\n",
            "Requirement already satisfied: fonttools>=4.22.0 in d:\\documents\\python\\hackathon_hse25\\.venv\\lib\\site-packages (from matplotlib->bert_score) (4.56.0)\n",
            "Requirement already satisfied: kiwisolver>=1.3.1 in d:\\documents\\python\\hackathon_hse25\\.venv\\lib\\site-packages (from matplotlib->bert_score) (1.4.8)\n",
            "Requirement already satisfied: pillow>=8 in d:\\documents\\python\\hackathon_hse25\\.venv\\lib\\site-packages (from matplotlib->bert_score) (11.1.0)\n",
            "Requirement already satisfied: pyparsing>=2.3.1 in d:\\documents\\python\\hackathon_hse25\\.venv\\lib\\site-packages (from matplotlib->bert_score) (3.2.1)\n",
            "Requirement already satisfied: charset-normalizer<4,>=2 in d:\\documents\\python\\hackathon_hse25\\.venv\\lib\\site-packages (from requests->bert_score) (3.4.1)\n",
            "Requirement already satisfied: idna<4,>=2.5 in d:\\documents\\python\\hackathon_hse25\\.venv\\lib\\site-packages (from requests->bert_score) (3.10)\n",
            "Requirement already satisfied: urllib3<3,>=1.21.1 in d:\\documents\\python\\hackathon_hse25\\.venv\\lib\\site-packages (from requests->bert_score) (2.3.0)\n",
            "Requirement already satisfied: certifi>=2017.4.17 in d:\\documents\\python\\hackathon_hse25\\.venv\\lib\\site-packages (from requests->bert_score) (2025.1.31)\n",
            "Requirement already satisfied: six>=1.5 in d:\\documents\\python\\hackathon_hse25\\.venv\\lib\\site-packages (from python-dateutil>=2.8.2->pandas>=1.0.1->bert_score) (1.17.0)\n",
            "Requirement already satisfied: MarkupSafe>=2.0 in d:\\documents\\python\\hackathon_hse25\\.venv\\lib\\site-packages (from jinja2->torch>=1.0.0->bert_score) (3.0.2)\n"
          ]
        }
      ],
      "source": [
        "!pip install bert_score"
      ]
    },
    {
      "cell_type": "code",
      "execution_count": null,
      "metadata": {},
      "outputs": [
        {
          "ename": "SyntaxError",
          "evalue": "incomplete input (308830075.py, line 19)",
          "output_type": "error",
          "traceback": [
            "  \u001b[36mCell\u001b[39m\u001b[36m \u001b[39m\u001b[32mIn[1]\u001b[39m\u001b[32m, line 19\u001b[39m\n\u001b[31m    \u001b[39m\u001b[31mvs.validate_rag(dataset.head(300)\u001b[39m\n                                     ^\n\u001b[31mSyntaxError\u001b[39m\u001b[31m:\u001b[39m incomplete input\n"
          ]
        }
      ],
      "source": [
        "import sys\n",
        "sys.path.append('./datasets/')\n",
        "from typing import List\n",
        "\n",
        "import evaluate\n",
        "import numpy as np\n",
        "import pandas as pd\n",
        "from tqdm import tqdm\n",
        "\n",
        "rouge = evaluate.load(\"rouge\")\n",
        "bleu = evaluate.load(\"bleu\")\n",
        "chrf = evaluate.load(\"chrf\")\n",
        "bertscore = evaluate.load(\"bertscore\")\n",
        "\n",
        "# Теперь можно импортировать функцию\n",
        "from metrics import ValidatorSimple\n",
        "\n",
        "vs = ValidatorSimple(neural=True)\n",
        "vs.validate_rag(dataset.head(300))"
      ]
    },
    {
      "cell_type": "code",
      "execution_count": null,
      "metadata": {},
      "outputs": [],
      "source": []
    },
    {
      "cell_type": "code",
      "execution_count": null,
      "metadata": {},
      "outputs": [],
      "source": []
    },
    {
      "cell_type": "code",
      "execution_count": null,
      "metadata": {},
      "outputs": [],
      "source": []
    },
    {
      "cell_type": "code",
      "execution_count": 17,
      "metadata": {},
      "outputs": [],
      "source": [
        "import matplotlib.pyplot as plt\n"
      ]
    },
    {
      "cell_type": "code",
      "execution_count": 18,
      "metadata": {},
      "outputs": [
        {
          "ename": "NameError",
          "evalue": "name 'save_results_to_json' is not defined",
          "output_type": "error",
          "traceback": [
            "\u001b[31m---------------------------------------------------------------------------\u001b[39m",
            "\u001b[31mNameError\u001b[39m                                 Traceback (most recent call last)",
            "\u001b[36mCell\u001b[39m\u001b[36m \u001b[39m\u001b[32mIn[18]\u001b[39m\u001b[32m, line 1\u001b[39m\n\u001b[32m----> \u001b[39m\u001b[32m1\u001b[39m \u001b[43msave_results_to_json\u001b[49m(vs,\u001b[33mr\u001b[39m\u001b[33m\"\u001b[39m\u001b[33mD:\u001b[39m\u001b[33m\\\u001b[39m\u001b[33mDocuments\u001b[39m\u001b[33m\\\u001b[39m\u001b[33mPython\u001b[39m\u001b[33m\\\u001b[39m\u001b[33mhackathon_hse25\u001b[39m\u001b[33m\\\u001b[39m\u001b[33mprepocess_calculate\u001b[39m\u001b[33m\\\u001b[39m\u001b[33moutpu.json\u001b[39m\u001b[33m\"\u001b[39m)\n",
            "\u001b[31mNameError\u001b[39m: name 'save_results_to_json' is not defined"
          ]
        }
      ],
      "source": [
        "save_results_to_json(vs,r\"D:\\Documents\\Python\\hackathon_hse25\\prepocess_calculate\\outpu.json\")"
      ]
    },
    {
      "cell_type": "code",
      "execution_count": null,
      "metadata": {},
      "outputs": [
        {
          "name": "stdout",
          "output_type": "stream",
          "text": [
            "Collecting fastapi\n",
            "  Using cached fastapi-0.115.11-py3-none-any.whl.metadata (27 kB)\n",
            "Collecting uvicorn\n",
            "  Using cached uvicorn-0.34.0-py3-none-any.whl.metadata (6.5 kB)\n",
            "Collecting starlette<0.47.0,>=0.40.0 (from fastapi)\n",
            "  Using cached starlette-0.46.0-py3-none-any.whl.metadata (6.2 kB)\n",
            "Collecting pydantic!=1.8,!=1.8.1,!=2.0.0,!=2.0.1,!=2.1.0,<3.0.0,>=1.7.4 (from fastapi)\n",
            "  Using cached pydantic-2.10.6-py3-none-any.whl.metadata (30 kB)\n",
            "Collecting typing-extensions>=4.8.0 (from fastapi)\n",
            "  Using cached typing_extensions-4.12.2-py3-none-any.whl.metadata (3.0 kB)\n",
            "Collecting click>=7.0 (from uvicorn)\n",
            "  Using cached click-8.1.8-py3-none-any.whl.metadata (2.3 kB)\n",
            "Collecting h11>=0.8 (from uvicorn)\n",
            "  Using cached h11-0.14.0-py3-none-any.whl.metadata (8.2 kB)\n",
            "Requirement already satisfied: colorama in d:\\documents\\python\\hackathon_hse25\\.venv\\lib\\site-packages (from click>=7.0->uvicorn) (0.4.6)\n",
            "Collecting annotated-types>=0.6.0 (from pydantic!=1.8,!=1.8.1,!=2.0.0,!=2.0.1,!=2.1.0,<3.0.0,>=1.7.4->fastapi)\n",
            "  Using cached annotated_types-0.7.0-py3-none-any.whl.metadata (15 kB)\n",
            "Collecting pydantic-core==2.27.2 (from pydantic!=1.8,!=1.8.1,!=2.0.0,!=2.0.1,!=2.1.0,<3.0.0,>=1.7.4->fastapi)\n",
            "  Using cached pydantic_core-2.27.2-cp312-cp312-win_amd64.whl.metadata (6.7 kB)\n",
            "Collecting anyio<5,>=3.6.2 (from starlette<0.47.0,>=0.40.0->fastapi)\n",
            "  Using cached anyio-4.8.0-py3-none-any.whl.metadata (4.6 kB)\n",
            "Collecting idna>=2.8 (from anyio<5,>=3.6.2->starlette<0.47.0,>=0.40.0->fastapi)\n",
            "  Using cached idna-3.10-py3-none-any.whl.metadata (10 kB)\n",
            "Collecting sniffio>=1.1 (from anyio<5,>=3.6.2->starlette<0.47.0,>=0.40.0->fastapi)\n",
            "  Using cached sniffio-1.3.1-py3-none-any.whl.metadata (3.9 kB)\n",
            "Using cached fastapi-0.115.11-py3-none-any.whl (94 kB)\n",
            "Using cached uvicorn-0.34.0-py3-none-any.whl (62 kB)\n",
            "Using cached click-8.1.8-py3-none-any.whl (98 kB)\n",
            "Using cached h11-0.14.0-py3-none-any.whl (58 kB)\n",
            "Using cached pydantic-2.10.6-py3-none-any.whl (431 kB)\n",
            "Using cached pydantic_core-2.27.2-cp312-cp312-win_amd64.whl (2.0 MB)\n",
            "Using cached starlette-0.46.0-py3-none-any.whl (71 kB)\n",
            "Using cached typing_extensions-4.12.2-py3-none-any.whl (37 kB)\n",
            "Using cached annotated_types-0.7.0-py3-none-any.whl (13 kB)\n",
            "Using cached anyio-4.8.0-py3-none-any.whl (96 kB)\n",
            "Using cached idna-3.10-py3-none-any.whl (70 kB)\n",
            "Using cached sniffio-1.3.1-py3-none-any.whl (10 kB)\n",
            "Installing collected packages: typing-extensions, sniffio, idna, h11, click, annotated-types, uvicorn, pydantic-core, anyio, starlette, pydantic, fastapi\n",
            "Successfully installed annotated-types-0.7.0 anyio-4.8.0 click-8.1.8 fastapi-0.115.11 h11-0.14.0 idna-3.10 pydantic-2.10.6 pydantic-core-2.27.2 sniffio-1.3.1 starlette-0.46.0 typing-extensions-4.12.2 uvicorn-0.34.0\n"
          ]
        }
      ],
      "source": [
        "!pip install fastapi uvicorn"
      ]
    }
  ],
  "metadata": {
    "accelerator": "GPU",
    "colab": {
      "gpuType": "T4",
      "provenance": []
    },
    "kernelspec": {
      "display_name": ".venv",
      "language": "python",
      "name": "python3"
    },
    "language_info": {
      "codemirror_mode": {
        "name": "ipython",
        "version": 3
      },
      "file_extension": ".py",
      "mimetype": "text/x-python",
      "name": "python",
      "nbconvert_exporter": "python",
      "pygments_lexer": "ipython3",
      "version": "3.12.3"
    }
  },
  "nbformat": 4,
  "nbformat_minor": 0
}
